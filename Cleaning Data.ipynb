{
 "cells": [
  {
   "cell_type": "markdown",
   "id": "4e06afc8",
   "metadata": {},
   "source": [
    "# Text Cleaning using Python"
   ]
  },
  {
   "cell_type": "code",
   "execution_count": 1,
   "id": "5e788f07",
   "metadata": {},
   "outputs": [],
   "source": [
    "# warning\n",
    "import warnings\n",
    "warnings.filterwarnings('ignore')"
   ]
  },
  {
   "cell_type": "code",
   "execution_count": 2,
   "id": "3487ec49",
   "metadata": {},
   "outputs": [],
   "source": [
    "# Creating sentences\n",
    "\n",
    "docs = [\"I am writing some very basic enghlish sentences\", \"I'm just writing it for the demo PURPOSE to make audience understand the basics.\", \"The point is to _learn HOW it works_ on #simple # data.\"]"
   ]
  },
  {
   "cell_type": "code",
   "execution_count": 3,
   "id": "19b37c97",
   "metadata": {},
   "outputs": [],
   "source": [
    "#Importing nltk package\n",
    "\n",
    "import nltk"
   ]
  },
  {
   "cell_type": "markdown",
   "id": "4bc27756",
   "metadata": {},
   "source": [
    "## Step-1 Convert to lowercase"
   ]
  },
  {
   "cell_type": "code",
   "execution_count": 4,
   "id": "3117ec1a",
   "metadata": {},
   "outputs": [
    {
     "name": "stdout",
     "output_type": "stream",
     "text": [
      "['i am writing some very basic enghlish sentences', \"i'm just writing it for the demo purpose to make audience understand the basics.\", 'the point is to _learn how it works_ on #simple # data.']\n"
     ]
    }
   ],
   "source": [
    "import string\n",
    "docs = [doc.lower() for doc in docs]\n",
    "print(docs)"
   ]
  },
  {
   "cell_type": "markdown",
   "id": "497a074a",
   "metadata": {},
   "source": [
    "## Step-2 Tokenization"
   ]
  },
  {
   "cell_type": "code",
   "execution_count": 8,
   "id": "84f09684",
   "metadata": {},
   "outputs": [
    {
     "name": "stdout",
     "output_type": "stream",
     "text": [
      "[['i', 'am', 'writing', 'some', 'very', 'basic', 'enghlish', 'sentences'], ['i', \"'m\", 'just', 'writing', 'it', 'for', 'the', 'demo', 'purpose', 'to', 'make', 'audience', 'understand', 'the', 'basics', '.'], ['the', 'point', 'is', 'to', '_learn', 'how', 'it', 'works_', 'on', '#', 'simple', '#', 'data', '.']]\n"
     ]
    }
   ],
   "source": [
    "# Word tokenization\n",
    "\n",
    "from nltk.tokenize import word_tokenize\n",
    "tokenized_docs = [word_tokenize(doc) for doc in docs]\n",
    "print(tokenized_docs)"
   ]
  },
  {
   "cell_type": "code",
   "execution_count": 7,
   "id": "ac4ff55c",
   "metadata": {},
   "outputs": [
    {
     "name": "stdout",
     "output_type": "stream",
     "text": [
      "showing info https://raw.githubusercontent.com/nltk/nltk_data/gh-pages/index.xml\n"
     ]
    },
    {
     "data": {
      "text/plain": [
       "True"
      ]
     },
     "execution_count": 7,
     "metadata": {},
     "output_type": "execute_result"
    }
   ],
   "source": [
    "nltk.download()"
   ]
  },
  {
   "cell_type": "code",
   "execution_count": 9,
   "id": "e485ba13",
   "metadata": {},
   "outputs": [
    {
     "name": "stdout",
     "output_type": "stream",
     "text": [
      "[['i am writing some very basic enghlish sentences'], [\"i'm just writing it for the demo purpose to make audience understand the basics.\"], ['the point is to _learn how it works_ on #simple # data.']]\n"
     ]
    }
   ],
   "source": [
    "# Sentence tokenization\n",
    "\n",
    "from nltk.tokenize import sent_tokenize\n",
    "sent_token = [sent_tokenize(doc) for doc in docs]\n",
    "print(sent_token)"
   ]
  },
  {
   "cell_type": "markdown",
   "id": "2ba01144",
   "metadata": {},
   "source": [
    "## Step-3 Punctuation Removal"
   ]
  },
  {
   "cell_type": "code",
   "execution_count": 10,
   "id": "a2ccbe5f",
   "metadata": {},
   "outputs": [
    {
     "name": "stdout",
     "output_type": "stream",
     "text": [
      "[['i', 'am', 'writing', 'some', 'very', 'basic', 'enghlish', 'sentences'], ['i', 'm', 'just', 'writing', 'it', 'for', 'the', 'demo', 'purpose', 'to', 'make', 'audience', 'understand', 'the', 'basics'], ['the', 'point', 'is', 'to', 'learn', 'how', 'it', 'works', 'on', 'simple', 'data']]\n"
     ]
    }
   ],
   "source": [
    "# Removing Punctuations\n",
    "\n",
    "import re\n",
    "regrex = re.compile('[%s]' % re.escape(string.punctuation))\n",
    "\n",
    "tokenized_docs_no_punctuation = []\n",
    "\n",
    "for review in tokenized_docs:\n",
    "    new_review = []\n",
    "    for token in review:\n",
    "        new_token = regrex.sub(u'',token)\n",
    "        if not new_token == u'':\n",
    "            new_review.append(new_token)\n",
    "            \n",
    "    tokenized_docs_no_punctuation.append(new_review)\n",
    "    \n",
    "print(tokenized_docs_no_punctuation)\n",
    "    "
   ]
  },
  {
   "cell_type": "markdown",
   "id": "774422fc",
   "metadata": {},
   "source": [
    "## Step-4 Removing Stopwords"
   ]
  },
  {
   "cell_type": "code",
   "execution_count": 20,
   "id": "00bb76ed",
   "metadata": {},
   "outputs": [
    {
     "name": "stdout",
     "output_type": "stream",
     "text": [
      "[['writing', 'basic', 'enghlish', 'sentences'], ['writing', 'demo', 'purpose', 'make', 'audience', 'understand', 'basics'], ['point', 'learn', 'works', 'simple', 'data']]\n"
     ]
    }
   ],
   "source": [
    "# Cleaning text of stopwords\n",
    "\n",
    "from nltk.corpus import stopwords\n",
    "\n",
    "tokenized_docs_no_stopwords = []\n",
    "\n",
    "for doc in tokenized_docs_no_punctuation:\n",
    "    new_term_vector =[]\n",
    "    for word in doc:\n",
    "        if not word in stopwords.words('english'):\n",
    "            new_term_vector.append(word)\n",
    "            \n",
    "    tokenized_docs_no_stopwords.append(new_term_vector)\n",
    "    \n",
    "print(tokenized_docs_no_stopwords)"
   ]
  },
  {
   "cell_type": "markdown",
   "id": "2c082a0c",
   "metadata": {},
   "source": [
    "## Step-5 Stemming and Lemmantization"
   ]
  },
  {
   "cell_type": "code",
   "execution_count": 21,
   "id": "d54de81d",
   "metadata": {},
   "outputs": [
    {
     "name": "stdout",
     "output_type": "stream",
     "text": [
      "[['write', 'basic', 'enghlish', 'sentenc'], ['write', 'demo', 'purpos', 'make', 'audienc', 'understand', 'basic'], ['point', 'learn', 'work', 'simpl', 'data']]\n"
     ]
    }
   ],
   "source": [
    "# Stemming\n",
    "\n",
    "from nltk.stem.porter import PorterStemmer\n",
    "\n",
    "\n",
    "porter =PorterStemmer()\n",
    "\n",
    "\n",
    "preprocessed_docs = []\n",
    "\n",
    "for doc in tokenized_docs_no_stopwords:\n",
    "    final_doc = []\n",
    "    for word in doc:\n",
    "        final_doc.append(porter.stem(word))\n",
    "        \n",
    "        \n",
    "    preprocessed_docs.append(final_doc)\n",
    "    \n",
    "print(preprocessed_docs)"
   ]
  },
  {
   "cell_type": "code",
   "execution_count": 22,
   "id": "5eda9530",
   "metadata": {},
   "outputs": [
    {
     "name": "stdout",
     "output_type": "stream",
     "text": [
      "[['writing', 'basic', 'enghlish', 'sentence'], ['writing', 'demo', 'purpose', 'make', 'audience', 'understand', 'basic'], ['point', 'learn', 'work', 'simple', 'data']]\n"
     ]
    }
   ],
   "source": [
    "# Lemmatization\n",
    "\n",
    "from nltk.stem.wordnet import WordNetLemmatizer\n",
    "\n",
    "wordnet =WordNetLemmatizer()\n",
    "\n",
    "preprocessed_docs = []\n",
    "\n",
    "for doc in tokenized_docs_no_stopwords:\n",
    "    final_doc = []\n",
    "    for word in doc:\n",
    "        final_doc.append(wordnet.lemmatize(word))\n",
    "        \n",
    "    preprocessed_docs.append(final_doc)\n",
    "    \n",
    "print(preprocessed_docs)"
   ]
  },
  {
   "cell_type": "markdown",
   "id": "e67d96f0",
   "metadata": {},
   "source": [
    "## Advance cleaning technique 1 - Normalization"
   ]
  },
  {
   "cell_type": "code",
   "execution_count": 8,
   "id": "624ac61b",
   "metadata": {},
   "outputs": [],
   "source": [
    "text = \"On the 30th Jan 2020,Corona virus hit India with 1st case in kerala  anywhere, G.O.I started acting and allocated fund of 17287 Crores I.N.R\""
   ]
  },
  {
   "cell_type": "code",
   "execution_count": 10,
   "id": "310becd6",
   "metadata": {},
   "outputs": [
    {
     "ename": "ModuleNotFoundError",
     "evalue": "No module named 'sklearn.semi_supervised.label_propagation'",
     "output_type": "error",
     "traceback": [
      "\u001b[1;31m---------------------------------------------------------------------------\u001b[0m",
      "\u001b[1;31mModuleNotFoundError\u001b[0m                       Traceback (most recent call last)",
      "Cell \u001b[1;32mIn[10], line 1\u001b[0m\n\u001b[1;32m----> 1\u001b[0m \u001b[38;5;28;01mfrom\u001b[39;00m \u001b[38;5;21;01mnormalise\u001b[39;00m\u001b[38;5;21;01m.\u001b[39;00m\u001b[38;5;21;01mnormalisation\u001b[39;00m \u001b[38;5;28;01mimport\u001b[39;00m normalise\n\u001b[0;32m      3\u001b[0m custom_abbr \u001b[38;5;241m=\u001b[39m {\n\u001b[0;32m      4\u001b[0m     \u001b[38;5;124m\"\u001b[39m\u001b[38;5;124mG.O.I\u001b[39m\u001b[38;5;124m\"\u001b[39m: \u001b[38;5;124m\"\u001b[39m\u001b[38;5;124mGovernment Of India\u001b[39m\u001b[38;5;124m\"\u001b[39m,\n\u001b[0;32m      5\u001b[0m     \u001b[38;5;124m\"\u001b[39m\u001b[38;5;124mI.N.R\u001b[39m\u001b[38;5;124m\"\u001b[39m: \u001b[38;5;124m\"\u001b[39m\u001b[38;5;124mIndian Rupees\u001b[39m\u001b[38;5;124m\"\u001b[39m,\n\u001b[0;32m      6\u001b[0m     \u001b[38;5;124m\"\u001b[39m\u001b[38;5;124mttyl\u001b[39m\u001b[38;5;124m\"\u001b[39m:\u001b[38;5;124m\"\u001b[39m\u001b[38;5;124mtalk to you later\u001b[39m\u001b[38;5;124m\"\u001b[39m\n\u001b[0;32m      7\u001b[0m     \n\u001b[0;32m      8\u001b[0m }\n\u001b[0;32m     10\u001b[0m normalised_tokens \u001b[38;5;241m=\u001b[39m normalise(word_tokenize(text),user_abbrevs\u001b[38;5;241m=\u001b[39mcustom_abbr,verbose\u001b[38;5;241m=\u001b[39m\u001b[38;5;28;01mFalse\u001b[39;00m)\n",
      "File \u001b[1;32m~\\anaconda3\\Lib\\site-packages\\normalise\\__init__.py:1\u001b[0m\n\u001b[1;32m----> 1\u001b[0m \u001b[38;5;28;01mfrom\u001b[39;00m \u001b[38;5;21;01mnormalise\u001b[39;00m\u001b[38;5;21;01m.\u001b[39;00m\u001b[38;5;21;01mnormalisation\u001b[39;00m \u001b[38;5;28;01mimport\u001b[39;00m normalise, list_NSWs, rejoin, tokenize_basic\n",
      "File \u001b[1;32m~\\anaconda3\\Lib\\site-packages\\normalise\\normalisation.py:13\u001b[0m\n\u001b[0;32m     11\u001b[0m \u001b[38;5;28;01mfrom\u001b[39;00m \u001b[38;5;21;01mnormalise\u001b[39;00m\u001b[38;5;21;01m.\u001b[39;00m\u001b[38;5;21;01mtagger\u001b[39;00m \u001b[38;5;28;01mimport\u001b[39;00m tagify, is_digbased\n\u001b[0;32m     12\u001b[0m \u001b[38;5;28;01mfrom\u001b[39;00m \u001b[38;5;21;01mnormalise\u001b[39;00m\u001b[38;5;21;01m.\u001b[39;00m\u001b[38;5;21;01msplitter\u001b[39;00m \u001b[38;5;28;01mimport\u001b[39;00m split, retagify\n\u001b[1;32m---> 13\u001b[0m \u001b[38;5;28;01mfrom\u001b[39;00m \u001b[38;5;21;01mnormalise\u001b[39;00m\u001b[38;5;21;01m.\u001b[39;00m\u001b[38;5;21;01mclass_ALPHA\u001b[39;00m \u001b[38;5;28;01mimport\u001b[39;00m run_clfALPHA\n\u001b[0;32m     14\u001b[0m \u001b[38;5;28;01mfrom\u001b[39;00m \u001b[38;5;21;01mnormalise\u001b[39;00m\u001b[38;5;21;01m.\u001b[39;00m\u001b[38;5;21;01mclass_NUMB\u001b[39;00m \u001b[38;5;28;01mimport\u001b[39;00m run_clfNUMB, gen_frame\n\u001b[0;32m     15\u001b[0m \u001b[38;5;28;01mfrom\u001b[39;00m \u001b[38;5;21;01mnormalise\u001b[39;00m\u001b[38;5;21;01m.\u001b[39;00m\u001b[38;5;21;01mtag_MISC\u001b[39;00m \u001b[38;5;28;01mimport\u001b[39;00m tag_MISC\n",
      "File \u001b[1;32m~\\anaconda3\\Lib\\site-packages\\normalise\\class_ALPHA.py:16\u001b[0m\n\u001b[0;32m     14\u001b[0m \u001b[38;5;28;01mfrom\u001b[39;00m \u001b[38;5;21;01mnormalise\u001b[39;00m\u001b[38;5;21;01m.\u001b[39;00m\u001b[38;5;21;01mdetect\u001b[39;00m \u001b[38;5;28;01mimport\u001b[39;00m mod_path\n\u001b[0;32m     15\u001b[0m \u001b[38;5;28;01mfrom\u001b[39;00m \u001b[38;5;21;01mnormalise\u001b[39;00m\u001b[38;5;21;01m.\u001b[39;00m\u001b[38;5;21;01mtagger\u001b[39;00m \u001b[38;5;28;01mimport\u001b[39;00m tagify, is_digbased, acr_pattern\n\u001b[1;32m---> 16\u001b[0m \u001b[38;5;28;01mfrom\u001b[39;00m \u001b[38;5;21;01mnormalise\u001b[39;00m\u001b[38;5;21;01m.\u001b[39;00m\u001b[38;5;21;01mclass_NUMB\u001b[39;00m \u001b[38;5;28;01mimport\u001b[39;00m gen_frame\n\u001b[0;32m     17\u001b[0m \u001b[38;5;28;01mfrom\u001b[39;00m \u001b[38;5;21;01mnormalise\u001b[39;00m\u001b[38;5;21;01m.\u001b[39;00m\u001b[38;5;21;01msplitter\u001b[39;00m \u001b[38;5;28;01mimport\u001b[39;00m split, retagify\n\u001b[0;32m     18\u001b[0m \u001b[38;5;28;01mfrom\u001b[39;00m \u001b[38;5;21;01mnormalise\u001b[39;00m\u001b[38;5;21;01m.\u001b[39;00m\u001b[38;5;21;01mdata\u001b[39;00m\u001b[38;5;21;01m.\u001b[39;00m\u001b[38;5;21;01mmeasurements\u001b[39;00m \u001b[38;5;28;01mimport\u001b[39;00m meas_dict, meas_dict_pl\n",
      "File \u001b[1;32m~\\anaconda3\\Lib\\site-packages\\normalise\\class_NUMB.py:33\u001b[0m\n\u001b[0;32m     30\u001b[0m     wordlist \u001b[38;5;241m=\u001b[39m pickle\u001b[38;5;241m.\u001b[39mload(file)\n\u001b[0;32m     32\u001b[0m \u001b[38;5;28;01mwith\u001b[39;00m \u001b[38;5;28mopen\u001b[39m(\u001b[38;5;124m'\u001b[39m\u001b[38;5;132;01m{}\u001b[39;00m\u001b[38;5;124m/data/clf_NUMB.pickle\u001b[39m\u001b[38;5;124m'\u001b[39m\u001b[38;5;241m.\u001b[39mformat(mod_path), mode\u001b[38;5;241m=\u001b[39m\u001b[38;5;124m'\u001b[39m\u001b[38;5;124mrb\u001b[39m\u001b[38;5;124m'\u001b[39m) \u001b[38;5;28;01mas\u001b[39;00m file:\n\u001b[1;32m---> 33\u001b[0m     clf_NUMB \u001b[38;5;241m=\u001b[39m pickle\u001b[38;5;241m.\u001b[39mload(file)\n\u001b[0;32m     35\u001b[0m \u001b[38;5;28;01mif\u001b[39;00m \u001b[38;5;18m__name__\u001b[39m \u001b[38;5;241m==\u001b[39m \u001b[38;5;124m\"\u001b[39m\u001b[38;5;124m__main__\u001b[39m\u001b[38;5;124m\"\u001b[39m:\n\u001b[0;32m     36\u001b[0m     \u001b[38;5;66;03m# Store all NUMB tags from training data in NUMB_list, including SPLT-NUMB.\u001b[39;00m\n\u001b[0;32m     37\u001b[0m     tagged \u001b[38;5;241m=\u001b[39m tagify(NSWs, verbose\u001b[38;5;241m=\u001b[39m\u001b[38;5;28;01mFalse\u001b[39;00m)\n",
      "\u001b[1;31mModuleNotFoundError\u001b[0m: No module named 'sklearn.semi_supervised.label_propagation'"
     ]
    }
   ],
   "source": [
    "from normalise import normalise\n",
    "\n",
    "custom_abbr = {\n",
    "    \"G.O.I\": \"Government Of India\",\n",
    "    \"I.N.R\": \"Indian Rupees\",\n",
    "    \"ttyl\":\"talk to you later\"\n",
    "    \n",
    "}\n",
    "\n",
    "normalised_tokens = normalise(word_tokenize(text),user_abbrevs=custom_abbr,verbose=False)\n",
    "display(f\"Normalised text: {' '.join(normalised_tokens)}\")"
   ]
  },
  {
   "cell_type": "code",
   "execution_count": 29,
   "id": "19f6bcc9",
   "metadata": {},
   "outputs": [
    {
     "name": "stdout",
     "output_type": "stream",
     "text": [
      "Collecting normalise\n",
      "  Obtaining dependency information for normalise from https://files.pythonhosted.org/packages/28/2d/f06cf3d3714502dec10e19238a5da201b71ce198165beda9c1adaf5063da/normalise-0.1.8-py3-none-any.whl.metadata\n",
      "  Downloading normalise-0.1.8-py3-none-any.whl.metadata (454 bytes)\n",
      "Requirement already satisfied: nltk in c:\\users\\user\\anaconda3\\lib\\site-packages (from normalise) (3.8.1)\n",
      "Requirement already satisfied: scikit-learn in c:\\users\\user\\anaconda3\\lib\\site-packages (from normalise) (1.4.0)\n",
      "Requirement already satisfied: numpy in c:\\users\\user\\anaconda3\\lib\\site-packages (from normalise) (1.24.3)\n",
      "Collecting roman (from normalise)\n",
      "  Obtaining dependency information for roman from https://files.pythonhosted.org/packages/b3/e7/533d5082852a3e0001392b421172d1659a8dc81dad9c41d378adf891d689/roman-4.1-py3-none-any.whl.metadata\n",
      "  Downloading roman-4.1-py3-none-any.whl.metadata (3.3 kB)\n",
      "Requirement already satisfied: scipy in c:\\users\\user\\anaconda3\\lib\\site-packages (from normalise) (1.11.1)\n",
      "Requirement already satisfied: click in c:\\users\\user\\anaconda3\\lib\\site-packages (from nltk->normalise) (8.0.4)\n",
      "Requirement already satisfied: joblib in c:\\users\\user\\anaconda3\\lib\\site-packages (from nltk->normalise) (1.2.0)\n",
      "Requirement already satisfied: regex>=2021.8.3 in c:\\users\\user\\anaconda3\\lib\\site-packages (from nltk->normalise) (2022.7.9)\n",
      "Requirement already satisfied: tqdm in c:\\users\\user\\anaconda3\\lib\\site-packages (from nltk->normalise) (4.65.0)\n",
      "Requirement already satisfied: threadpoolctl>=2.0.0 in c:\\users\\user\\anaconda3\\lib\\site-packages (from scikit-learn->normalise) (2.2.0)\n",
      "Requirement already satisfied: colorama in c:\\users\\user\\anaconda3\\lib\\site-packages (from click->nltk->normalise) (0.4.6)\n",
      "Downloading normalise-0.1.8-py3-none-any.whl (15.7 MB)\n",
      "   ---------------------------------------- 0.0/15.7 MB ? eta -:--:--\n",
      "   ---------------------------------------- 0.0/15.7 MB ? eta -:--:--\n",
      "   ---------------------------------------- 0.0/15.7 MB ? eta -:--:--\n",
      "   ---------------------------------------- 0.0/15.7 MB ? eta -:--:--\n",
      "   ---------------------------------------- 0.0/15.7 MB ? eta -:--:--\n",
      "   ---------------------------------------- 0.1/15.7 MB 469.7 kB/s eta 0:00:34\n",
      "   ---------------------------------------- 0.1/15.7 MB 469.7 kB/s eta 0:00:34\n",
      "    --------------------------------------- 0.2/15.7 MB 831.5 kB/s eta 0:00:19\n",
      "   - -------------------------------------- 0.7/15.7 MB 2.5 MB/s eta 0:00:07\n",
      "   -- ------------------------------------- 1.0/15.7 MB 3.0 MB/s eta 0:00:05\n",
      "   --- ------------------------------------ 1.2/15.7 MB 3.2 MB/s eta 0:00:05\n",
      "   --- ------------------------------------ 1.2/15.7 MB 3.2 MB/s eta 0:00:05\n",
      "   --- ------------------------------------ 1.2/15.7 MB 3.2 MB/s eta 0:00:05\n",
      "   --- ------------------------------------ 1.2/15.7 MB 3.2 MB/s eta 0:00:05\n",
      "   --- ------------------------------------ 1.3/15.7 MB 2.2 MB/s eta 0:00:07\n",
      "   ----- ---------------------------------- 2.0/15.7 MB 3.0 MB/s eta 0:00:05\n",
      "   ----- ---------------------------------- 2.2/15.7 MB 3.1 MB/s eta 0:00:05\n",
      "   ------ --------------------------------- 2.4/15.7 MB 3.2 MB/s eta 0:00:05\n",
      "   ------ --------------------------------- 2.6/15.7 MB 3.2 MB/s eta 0:00:05\n",
      "   ------- -------------------------------- 2.8/15.7 MB 3.3 MB/s eta 0:00:04\n",
      "   ------- -------------------------------- 3.0/15.7 MB 3.3 MB/s eta 0:00:04\n",
      "   -------- ------------------------------- 3.2/15.7 MB 3.3 MB/s eta 0:00:04\n",
      "   -------- ------------------------------- 3.4/15.7 MB 3.3 MB/s eta 0:00:04\n",
      "   --------- ------------------------------ 3.5/15.7 MB 3.4 MB/s eta 0:00:04\n",
      "   --------- ------------------------------ 3.7/15.7 MB 3.4 MB/s eta 0:00:04\n",
      "   --------- ------------------------------ 3.9/15.7 MB 3.4 MB/s eta 0:00:04\n",
      "   ---------- ----------------------------- 4.1/15.7 MB 3.4 MB/s eta 0:00:04\n",
      "   ----------- ---------------------------- 4.4/15.7 MB 3.4 MB/s eta 0:00:04\n",
      "   ----------- ---------------------------- 4.5/15.7 MB 3.5 MB/s eta 0:00:04\n",
      "   ------------ --------------------------- 4.9/15.7 MB 3.5 MB/s eta 0:00:04\n",
      "   ------------ --------------------------- 5.1/15.7 MB 3.5 MB/s eta 0:00:04\n",
      "   ------------- -------------------------- 5.3/15.7 MB 3.5 MB/s eta 0:00:03\n",
      "   ------------- -------------------------- 5.4/15.7 MB 3.5 MB/s eta 0:00:03\n",
      "   -------------- ------------------------- 5.6/15.7 MB 3.5 MB/s eta 0:00:03\n",
      "   -------------- ------------------------- 5.8/15.7 MB 3.5 MB/s eta 0:00:03\n",
      "   --------------- ------------------------ 6.0/15.7 MB 3.6 MB/s eta 0:00:03\n",
      "   --------------- ------------------------ 6.3/15.7 MB 3.6 MB/s eta 0:00:03\n",
      "   ---------------- ----------------------- 6.5/15.7 MB 3.6 MB/s eta 0:00:03\n",
      "   ---------------- ----------------------- 6.7/15.7 MB 3.6 MB/s eta 0:00:03\n",
      "   ----------------- ---------------------- 6.9/15.7 MB 3.6 MB/s eta 0:00:03\n",
      "   ----------------- ---------------------- 7.0/15.7 MB 3.6 MB/s eta 0:00:03\n",
      "   ------------------ --------------------- 7.2/15.7 MB 3.6 MB/s eta 0:00:03\n",
      "   ------------------ --------------------- 7.4/15.7 MB 3.6 MB/s eta 0:00:03\n",
      "   ------------------- -------------------- 7.6/15.7 MB 3.6 MB/s eta 0:00:03\n",
      "   ------------------- -------------------- 7.8/15.7 MB 3.6 MB/s eta 0:00:03\n",
      "   -------------------- ------------------- 8.0/15.7 MB 3.6 MB/s eta 0:00:03\n",
      "   -------------------- ------------------- 8.2/15.7 MB 3.7 MB/s eta 0:00:03\n",
      "   --------------------- ------------------ 8.4/15.7 MB 3.6 MB/s eta 0:00:03\n",
      "   --------------------- ------------------ 8.6/15.7 MB 3.6 MB/s eta 0:00:02\n",
      "   ---------------------- ----------------- 8.7/15.7 MB 3.7 MB/s eta 0:00:02\n",
      "   ---------------------- ----------------- 8.7/15.7 MB 3.7 MB/s eta 0:00:02\n",
      "   ---------------------- ----------------- 8.7/15.7 MB 3.7 MB/s eta 0:00:02\n",
      "   ---------------------- ----------------- 9.0/15.7 MB 3.6 MB/s eta 0:00:02\n",
      "   ----------------------- ---------------- 9.2/15.7 MB 3.6 MB/s eta 0:00:02\n",
      "   ------------------------ --------------- 9.7/15.7 MB 3.7 MB/s eta 0:00:02\n",
      "   ------------------------- -------------- 9.9/15.7 MB 3.7 MB/s eta 0:00:02\n",
      "   ------------------------- -------------- 10.1/15.7 MB 3.7 MB/s eta 0:00:02\n",
      "   -------------------------- ------------- 10.3/15.7 MB 3.9 MB/s eta 0:00:02\n",
      "   -------------------------- ------------- 10.5/15.7 MB 3.9 MB/s eta 0:00:02\n",
      "   --------------------------- ------------ 10.7/15.7 MB 3.9 MB/s eta 0:00:02\n",
      "   --------------------------- ------------ 10.9/15.7 MB 3.9 MB/s eta 0:00:02\n",
      "   ---------------------------- ----------- 11.1/15.7 MB 3.8 MB/s eta 0:00:02\n",
      "   ---------------------------- ----------- 11.3/15.7 MB 3.8 MB/s eta 0:00:02\n",
      "   ----------------------------- ---------- 11.5/15.7 MB 4.1 MB/s eta 0:00:02\n",
      "   ----------------------------- ---------- 11.7/15.7 MB 4.0 MB/s eta 0:00:01\n",
      "   ------------------------------ --------- 11.9/15.7 MB 4.0 MB/s eta 0:00:01\n",
      "   ------------------------------ --------- 12.1/15.7 MB 3.9 MB/s eta 0:00:01\n",
      "   ------------------------------- -------- 12.3/15.7 MB 3.9 MB/s eta 0:00:01\n",
      "   ------------------------------- -------- 12.4/15.7 MB 3.9 MB/s eta 0:00:01\n",
      "   -------------------------------- ------- 12.6/15.7 MB 3.9 MB/s eta 0:00:01\n",
      "   -------------------------------- ------- 12.8/15.7 MB 3.9 MB/s eta 0:00:01\n",
      "   --------------------------------- ------ 13.0/15.7 MB 3.9 MB/s eta 0:00:01\n",
      "   --------------------------------- ------ 13.2/15.7 MB 3.9 MB/s eta 0:00:01\n",
      "   ---------------------------------- ----- 13.4/15.7 MB 3.9 MB/s eta 0:00:01\n",
      "   ---------------------------------- ----- 13.6/15.7 MB 3.9 MB/s eta 0:00:01\n",
      "   ----------------------------------- ---- 13.8/15.7 MB 3.9 MB/s eta 0:00:01\n",
      "   ----------------------------------- ---- 13.9/15.7 MB 3.9 MB/s eta 0:00:01\n",
      "   ------------------------------------ --- 14.2/15.7 MB 3.9 MB/s eta 0:00:01\n",
      "   ------------------------------------ --- 14.4/15.7 MB 3.9 MB/s eta 0:00:01\n",
      "   ------------------------------------- -- 14.6/15.7 MB 3.9 MB/s eta 0:00:01\n",
      "   ------------------------------------- -- 14.8/15.7 MB 3.9 MB/s eta 0:00:01\n",
      "   -------------------------------------- - 14.9/15.7 MB 3.9 MB/s eta 0:00:01\n",
      "   -------------------------------------- - 15.1/15.7 MB 3.9 MB/s eta 0:00:01\n",
      "   ---------------------------------------  15.3/15.7 MB 3.9 MB/s eta 0:00:01\n",
      "   ---------------------------------------  15.5/15.7 MB 3.9 MB/s eta 0:00:01\n",
      "   ---------------------------------------  15.7/15.7 MB 3.9 MB/s eta 0:00:01\n",
      "   ---------------------------------------  15.7/15.7 MB 3.9 MB/s eta 0:00:01\n",
      "   ---------------------------------------  15.7/15.7 MB 3.9 MB/s eta 0:00:01\n",
      "   ---------------------------------------- 15.7/15.7 MB 3.7 MB/s eta 0:00:00\n",
      "Downloading roman-4.1-py3-none-any.whl (5.5 kB)\n",
      "Installing collected packages: roman, normalise\n",
      "Successfully installed normalise-0.1.8 roman-4.1\n",
      "Note: you may need to restart the kernel to use updated packages.\n"
     ]
    }
   ],
   "source": [
    "pip install normalise\n"
   ]
  },
  {
   "cell_type": "code",
   "execution_count": 5,
   "id": "f8825c4f",
   "metadata": {},
   "outputs": [
    {
     "ename": "SyntaxError",
     "evalue": "invalid syntax (2074059074.py, line 1)",
     "output_type": "error",
     "traceback": [
      "\u001b[1;36m  Cell \u001b[1;32mIn[5], line 1\u001b[1;36m\u001b[0m\n\u001b[1;33m    conda install scikit-learn\u001b[0m\n\u001b[1;37m          ^\u001b[0m\n\u001b[1;31mSyntaxError\u001b[0m\u001b[1;31m:\u001b[0m invalid syntax\n"
     ]
    }
   ],
   "source": [
    "conda install scikit-learn\n",
    "\n"
   ]
  },
  {
   "cell_type": "code",
   "execution_count": null,
   "id": "8939010f",
   "metadata": {},
   "outputs": [],
   "source": []
  },
  {
   "cell_type": "code",
   "execution_count": null,
   "id": "ee6c5193",
   "metadata": {},
   "outputs": [],
   "source": []
  }
 ],
 "metadata": {
  "kernelspec": {
   "display_name": "Python 3 (ipykernel)",
   "language": "python",
   "name": "python3"
  },
  "language_info": {
   "codemirror_mode": {
    "name": "ipython",
    "version": 3
   },
   "file_extension": ".py",
   "mimetype": "text/x-python",
   "name": "python",
   "nbconvert_exporter": "python",
   "pygments_lexer": "ipython3",
   "version": "3.11.5"
  }
 },
 "nbformat": 4,
 "nbformat_minor": 5
}
